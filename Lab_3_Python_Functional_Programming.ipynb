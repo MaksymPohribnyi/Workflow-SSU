{
 "cells": [
  {
   "cell_type": "markdown",
   "metadata": {},
   "source": [
    "###  1 Functional programming in Python - brief overview\n",
    "\n",
    "[Official Tutorial](https://docs.python.org/3/howto/functional.html)\n",
    "\n",
    "[Blog post](https://stackabuse.com/functional-programming-in-python/)"
   ]
  },
  {
   "cell_type": "markdown",
   "metadata": {},
   "source": [
    "### 2 Functional programming in Python - exercises"
   ]
  },
  {
   "cell_type": "markdown",
   "metadata": {},
   "source": [
    "#### 2.1  Lambdas\n",
    "Recall that lambda functions are anonymous, unnamed function objects created on the fly, usually to accomplish a small transformation. For example,"
   ]
  },
  {
   "cell_type": "code",
   "execution_count": null,
   "metadata": {},
   "outputs": [],
   "source": [
    "(lambda val: val ** 2)(5)  # => 25 \n",
    "(lambda x, y: x * y)(3, 8)  # => 24 \n",
    "(lambda s: s.strip().lower()[:2])('  PyTHon')  # => 'py'"
   ]
  },
  {
   "cell_type": "markdown",
   "metadata": {},
   "source": [
    "On their own, lambdas aren't particularly useful, as demonstrated above. Usually, lambdas are used to avoid creating a formal function definiton for small throwaway functions, not only because they involves less typing (no def or return statement needed) but also, and perhaps more imporatntly, because these small functions won't pollute the namespace.\n",
    "Lambdas are also frequently used as arguments to or return values from higher-order functions, such as map and filter."
   ]
  },
  {
   "cell_type": "markdown",
   "metadata": {},
   "source": [
    "#### 2.2  Map\n",
    "Recall from class that map(func, iterable) applies a function over elements of an iterable.\n",
    "For each of the following rows, write a single statement using map that converts the left column into the right column:"
   ]
  },
  {
   "cell_type": "markdown",
   "metadata": {},
   "source": [
    "| From | To | \n",
    "| -: | -: |\n",
    "| ['12', '-2', '0'] | [12, -2, 0] | \n",
    "| ['hello', 'world'] | [5, 5] |\n",
    "| ['hello', 'world'] | ['olleh', 'dlrow'] |\n",
    "| range(2, 6) | [(2, 4, 8), (3, 9, 27), (4, 16, 64), (5, 25, 125)] |\n",
    "| zip(range(2, 5), range(3, 9, 2)) | [6, 15, 28] |\n",
    "\n",
    "\n"
   ]
  },
  {
   "cell_type": "markdown",
   "metadata": {},
   "source": [
    "Hint: you may need to wrap the output in a list() constructor to see it printed to console - that\n",
    "is, list(map(..., ...))"
   ]
  },
  {
   "cell_type": "markdown",
   "metadata": {},
   "source": [
    "The map function can accept a variable number of iterables as arguments. Thus, map(func,\n",
    "iterA, iterB, iterC) is equivalent to map(func, zip(iterA, iterB, iterC)). This can be used as\n",
    "follows:"
   ]
  },
  {
   "cell_type": "code",
   "execution_count": null,
   "metadata": {},
   "outputs": [],
   "source": [
    "map(int, ('10110', '0xCAFE', '42'), (2, 16, 10)) # generates 22, 51966, 42"
   ]
  },
  {
   "cell_type": "markdown",
   "metadata": {},
   "source": [
    "This works because int takes an optional second argument specifying the conversion base."
   ]
  },
  {
   "cell_type": "markdown",
   "metadata": {},
   "source": [
    "#### 2.3 Filter\n",
    "Recall from class that filter(pred, iterable) keeps only those elements from an iterable that\n",
    "satisfy a predicate function.\n",
    "Write statements using filter that convert the following sequences from the left column to\n",
    "the right column:"
   ]
  },
  {
   "cell_type": "markdown",
   "metadata": {},
   "source": [
    "| From | To | \n",
    "| -: | -: |\n",
    "|  ['12', '-2', '0']  |  ['12', '0']  |\n",
    "|  ['hello', 'world'] |  ['world']    |\n",
    "|  ['Stanford', 'Cal', 'UCLA']  | ['Stanford'] |\n",
    "| range(20)  | [0, 3, 5, 6, 9, 10, 12, 15, 18] |\n"
   ]
  },
  {
   "cell_type": "markdown",
   "metadata": {},
   "source": [
    "#### 2.4 Other Useful Tools\n",
    "##### Module: functools"
   ]
  },
  {
   "cell_type": "markdown",
   "metadata": {},
   "source": [
    "There is another utility in the functools module called reduce. This function is well-explained\n",
    "by the [official documentation](https://docs.python.org/3.4/library/functools.html) "
   ]
  },
  {
   "cell_type": "code",
   "execution_count": null,
   "metadata": {},
   "outputs": [],
   "source": [
    "functools.reduce(function, iterable[, initializer])"
   ]
  },
  {
   "cell_type": "markdown",
   "metadata": {},
   "source": [
    "Apply function of two arguments cumulatively to the items of iterable, from left to right, so\n",
    "as to reduce the iterable to a single value. For example"
   ]
  },
  {
   "cell_type": "code",
   "execution_count": null,
   "metadata": {},
   "outputs": [],
   "source": [
    "functools.reduce(lambda x, y: x + y, [1, 2, 3, 4, 5]) "
   ]
  },
  {
   "cell_type": "markdown",
   "metadata": {},
   "source": [
    "calculates ((((1 + 2) + 3) + 4) + 5). The left argument, x, is the\n",
    "accumulated value and the right argument, y, is the update value from the sequence. If the\n",
    "optional initializer is present, it is placed before the items of the sequence in the calculation,\n",
    "and serves as a default when the iterable is empty. If initializer is not given\n",
    "and iterable contains only one item, the first item is returned."
   ]
  },
  {
   "cell_type": "markdown",
   "metadata": {},
   "source": [
    "Use the reduce function to find the least common multiple of a arbitrary list of arguments. This\n",
    "can be accomplished in one line of Python.\n"
   ]
  },
  {
   "cell_type": "code",
   "execution_count": null,
   "metadata": {},
   "outputs": [],
   "source": [
    "import operator\n",
    "from functools import reduce\n",
    "\n",
    "def gcd(a, b):\n",
    "    \"\"\"\n",
    "    Reference implementation of finding the\n",
    "    greatest common denominator of two numbers\n",
    "    \"\"\"\n",
    "    while b != 0:\n",
    "        a, b = b, a % b\n",
    "    return a\n",
    "\n",
    "def lcm(*args):\n",
    "    pass\n",
    "    # Your implementation here: Use reduce and use only one line! "
   ]
  },
  {
   "cell_type": "markdown",
   "metadata": {},
   "source": [
    "##### Module: operator\n",
    "Frequently, you might find yourself writing anonymous functions similar to lambda x, y: x +\n",
    "y. This feels a little redundant, since Python already knows how to add two values together.\n",
    "Unfortunately, we can't just refer to + as a function - it's a builtin syntax element. To solve this\n",
    "problem, The operator module exports callable functions for each builtin operation. These\n",
    "operators can simplify some common uses of lambdas, and should be used wherever possible."
   ]
  },
  {
   "cell_type": "code",
   "execution_count": null,
   "metadata": {},
   "outputs": [],
   "source": [
    "import operator\n",
    "operator.add(1, 2) # => 3\n",
    "operator.mul(3, 10) # => 30\n",
    "operator.pow(2, 3) # => 8\n",
    "operator.itemgetter(1)([1, 2, 3]) # => 2"
   ]
  },
  {
   "cell_type": "markdown",
   "metadata": {},
   "source": [
    "Take a moment to skim over the official documentation for the operator module.\n",
    "Use reduce in conjunction with a function from the operator module to compute factorials in\n",
    "one line of Python:"
   ]
  },
  {
   "cell_type": "code",
   "execution_count": null,
   "metadata": {},
   "outputs": [],
   "source": [
    "import operator\n",
    "from functools import reduce\n",
    "\n",
    "def fact(n):\n",
    "    # Your implementation here: Use reduce, an operator, and only one line!\n",
    "\n",
    "fact(3) # => 6\n",
    "fact(7) # => 5040"
   ]
  },
  {
   "cell_type": "markdown",
   "metadata": {},
   "source": [
    "Custom comparison for sort, max, and min\n",
    "Python defaults to ordering sequences by a default ordering. For instances, strings sort\n",
    "alphabetically, and tuples sort lexicographically. Sometimes, however, we need to sort based\n",
    "on a custom key value. In Python, we can supply an optional key argument\n",
    "to sorted(seq), max(seq), min(seq), and seq.sort() to determine the values used for ordering\n",
    "elements in a sequence. In Python, these default sorting tools are guaranteed to be stable.\n",
    "For example:"
   ]
  },
  {
   "cell_type": "code",
   "execution_count": null,
   "metadata": {},
   "outputs": [],
   "source": [
    "words = ['pear', 'cabbage', 'apple', 'bananas']\n",
    "min(words) # => 'apple'\n",
    "words.sort(key=lambda s: s[-1]) # Alternatively, key=operator.itemgetter(-1)\n",
    "words # => ['cabbage', 'apple', 'pear', 'bananas'] ... Why 'cabbage' > 'apple'?\n",
    "max(words, key=len) # 'cabbage' ... Why not 'bananas'?\n",
    "min(words, key=lambda s: s[1::2]) # What will this value be?"
   ]
  },
  {
   "cell_type": "markdown",
   "metadata": {},
   "source": [
    "Write a function to return the two words with the highest alphanumeric score of uppercase\n",
    "letters:\n"
   ]
  },
  {
   "cell_type": "code",
   "execution_count": null,
   "metadata": {},
   "outputs": [],
   "source": [
    "def alpha_score(upper_letters):\n",
    "    \"\"\"\n",
    "    Computers the alphanumeric sum of letters in a string.\n",
    "    Prerequisite: upper_letters is composed entirely of capital letters.\n",
    "    \"\"\"\n",
    "    return sum(map(lambda l: 1 + ord(l) - ord('A'), upper_letters))\n",
    "\n",
    "alpha_score('ABC') # => 6 = 1 ('A') + 2 ('B') + 3 ('C')\n",
    "\n",
    "def two_best(words):\n",
    "    pass # Your implementation here\n",
    "\n",
    "two_best(['hEllO', 'wOrLD', 'i', 'aM', 'PyThOn'])"
   ]
  },
  {
   "cell_type": "markdown",
   "metadata": {},
   "source": [
    "You may want to use filter too."
   ]
  },
  {
   "cell_type": "markdown",
   "metadata": {},
   "source": [
    "##### Custom comparison for sort, max, and min\n",
    "Python defaults to ordering sequences by a default ordering. For instances, strings sort\n",
    "alphabetically, and tuples sort lexicographically. Sometimes, however, we need to sort based\n",
    "on a custom key value. In Python, we can supply an optional key argument\n",
    "to sorted(seq), max(seq), min(seq), and seq.sort() to determine the values used for ordering\n",
    "elements in a sequence. In Python, these default sorting tools are guaranteed to be stable.\n",
    "For example:"
   ]
  },
  {
   "cell_type": "code",
   "execution_count": null,
   "metadata": {},
   "outputs": [],
   "source": [
    "words = ['pear', 'cabbage', 'apple', 'bananas']\n",
    "min(words) # => 'apple'\n",
    "words.sort(key=lambda s: s[-1]) # Alternatively, key=operator.itemgetter(-1)\n",
    "words # => ['cabbage', 'apple', 'pear', 'bananas'] ... Why 'cabbage' > 'apple'?\n",
    "max(words, key=len) # 'cabbage' ... Why not 'bananas'?\n",
    "min(words, key=lambda s: s[1::2]) # What will this value be?"
   ]
  },
  {
   "cell_type": "markdown",
   "metadata": {},
   "source": [
    "Write a function to return the two words with the highest alphanumeric score of uppercase\n",
    "letters:"
   ]
  },
  {
   "cell_type": "code",
   "execution_count": null,
   "metadata": {},
   "outputs": [],
   "source": [
    "def alpha_score(upper_letters):\n",
    "    \"\"\"\n",
    "    Computers the alphanumeric sum of letters in a string.\n",
    "    Prerequisite: upper_letters is composed entirely of capital letters.\n",
    "    \"\"\"\n",
    "    return sum(map(lambda l: 1 + ord(l) - ord('A'), upper_letters))\n",
    "\n",
    "alpha_score('ABC') # => 6 = 1 ('A') + 2 ('B') + 3 ('C')\n",
    "\n",
    "def two_best(words):\n",
    "    pass # Your implementation here\n",
    "\n",
    "two_best(['hEllO', 'wOrLD', 'i', 'aM', 'PyThOn'])"
   ]
  },
  {
   "cell_type": "markdown",
   "metadata": {},
   "source": [
    "You may want to use filter too."
   ]
  },
  {
   "cell_type": "markdown",
   "metadata": {},
   "source": [
    "#### 2.6 Purely Functional Programming\n",
    "As a solely academic thought exercise, let's investigate how we would use Python in a purely\n",
    "functional programming paradigm. Ultimately, we will try to remove statements and replace\n",
    "them with expressions."
   ]
  },
  {
   "cell_type": "markdown",
   "metadata": {},
   "source": [
    "##### Replacing Control Flow\n",
    "The first thing that needs to go are control flow statements - if/elif/else. Luckily, Python, like\n",
    "many other languages, short circuits boolean expressions. This means that we can rewrite"
   ]
  },
  {
   "cell_type": "code",
   "execution_count": null,
   "metadata": {},
   "outputs": [],
   "source": [
    "if <cond1>: func1()\n",
    "elif <cond2>: func2()\n",
    "else: func3()"
   ]
  },
  {
   "cell_type": "markdown",
   "metadata": {},
   "source": [
    "as the equivalent expression"
   ]
  },
  {
   "cell_type": "markdown",
   "metadata": {},
   "source": [
    "(<cond1> and func1()) or (<cond2> and func2()) or (func3())"
   ]
  },
  {
   "cell_type": "markdown",
   "metadata": {},
   "source": [
    "Rewrite the following code block without using if/elif/else:"
   ]
  },
  {
   "cell_type": "code",
   "execution_count": null,
   "metadata": {},
   "outputs": [],
   "source": [
    "if score == 1:\n",
    "    return \"Winner\"\n",
    "elif score == -1:\n",
    "    return \"Loser\"\n",
    "else:\n",
    "    return \"Tied\""
   ]
  },
  {
   "cell_type": "markdown",
   "metadata": {},
   "source": [
    "##### Replacing Returns"
   ]
  },
  {
   "cell_type": "markdown",
   "metadata": {},
   "source": [
    "However, we would still need return values to do anything useful. Since lambdas implicitly\n",
    "return their expression, we will use lambdas to eliminate return statements. We can bind these\n",
    "temporary conditional conjunctive normal form expressions to a lambda function."
   ]
  },
  {
   "cell_type": "code",
   "execution_count": null,
   "metadata": {},
   "outputs": [],
   "source": [
    "echo = lambda arg: arg # In practice, you should never bind lambdas to local names\n",
    "cond_fn = lambda x: (x==1 and echo(\"one\")) \\\n",
    "                 or (x==2 and echo(\"two\")) \\\n",
    "                 or (echo(\"other\"))"
   ]
  },
  {
   "cell_type": "markdown",
   "metadata": {},
   "source": [
    "##### Replacing Loops"
   ]
  },
  {
   "cell_type": "markdown",
   "metadata": {},
   "source": [
    "Getting rid of loops is easy! We can map over a sequence instead of looping over the\n",
    "sequence. For example:"
   ]
  },
  {
   "cell_type": "code",
   "execution_count": null,
   "metadata": {},
   "outputs": [],
   "source": [
    "for e in lst:\n",
    "    func(e)"
   ]
  },
  {
   "cell_type": "markdown",
   "metadata": {},
   "source": [
    "becomes"
   ]
  },
  {
   "cell_type": "code",
   "execution_count": null,
   "metadata": {},
   "outputs": [],
   "source": [
    "map(func, lst)"
   ]
  },
  {
   "cell_type": "markdown",
   "metadata": {},
   "source": [
    "##### Replacing Action Sequence\n",
    "Most programs take the form a sequence of steps, written out line by line. By using\n",
    "a just_do_it function and map, we can replicate a sequence of function calls."
   ]
  },
  {
   "cell_type": "code",
   "execution_count": null,
   "metadata": {},
   "outputs": [],
   "source": [
    "just_do_it = lambda f: f()\n",
    "# Suppose f1, f2, f3 are actions\n",
    "map(just_do_it, [f1, f2, f3])"
   ]
  },
  {
   "cell_type": "markdown",
   "metadata": {},
   "source": [
    "Our main program execution can then be a single call to such a map expression.\n",
    "Note\n",
    "In fact, Python has eval and exec functions builtin. Don't use them! They are dangerous."
   ]
  },
  {
   "cell_type": "markdown",
   "metadata": {},
   "source": [
    "#### 2.7 Iterators\n",
    "Recall from class than an iterator is an object that represents a stream of data returned one\n",
    "value at a time.\n",
    "##### Iterator Consumption\n",
    "Suppose the following two lines of code have been run:\n"
   ]
  },
  {
   "cell_type": "code",
   "execution_count": null,
   "metadata": {},
   "outputs": [],
   "source": [
    "it = iter(range(100))\n",
    "67 in it # => True"
   ]
  },
  {
   "cell_type": "markdown",
   "metadata": {},
   "source": [
    "What is the output of each of the following lines of code?"
   ]
  },
  {
   "cell_type": "code",
   "execution_count": null,
   "metadata": {},
   "outputs": [],
   "source": [
    "next(it) # => ??\n",
    "37 in it # => ??\n",
    "next(it) # => ??"
   ]
  },
  {
   "cell_type": "markdown",
   "metadata": {},
   "source": [
    "With a partner, discuss why we see these results."
   ]
  },
  {
   "cell_type": "markdown",
   "metadata": {},
   "source": [
    "##### Module: itertools\n",
    "Python ships with a spectacular module for manipulating iterators called itertools. Take a\n",
    "moment to read through the [documentation page for itertools](https://docs.python.org/3.4/library/itertools.html).\n",
    "Predict the output of the following pieces of code:"
   ]
  },
  {
   "cell_type": "code",
   "execution_count": null,
   "metadata": {},
   "outputs": [],
   "source": [
    "import itertools\n",
    "import operator\n",
    "for el in itertools.permutations('XKCD', 2):\n",
    "    print(el, end=', ')\n",
    "for el in itertools.cycle('LO'):\n",
    "    print(el, end='') # Don't run this one. Why not?\n",
    "itertools.starmap(operator.mul, itertools.zip_longest([3,5,7],[2,3], fillvalue=1))"
   ]
  },
  {
   "cell_type": "markdown",
   "metadata": {},
   "source": [
    "##### (Challenge) Linear Algebra\n",
    "These challenge problems test your ability to write compact Python functions using the tools\n",
    "of functional programming and some good old-fashioned cleverness. As always, challenge\n",
    "problems are optional. These challenge problems focus heavily on linear algebra."
   ]
  },
  {
   "cell_type": "markdown",
   "metadata": {},
   "source": [
    "###### Dot Product"
   ]
  },
  {
   "cell_type": "markdown",
   "metadata": {},
   "source": [
    "Write a one-liner in Python that takes the dot product of two lists u and v. You can assume\n",
    "that the lists are the same size, and are standard Python lists (not anything special, like numpy\n",
    "arrays). You should use"
   ]
  },
  {
   "cell_type": "code",
   "execution_count": null,
   "metadata": {},
   "outputs": [],
   "source": [
    "def dot_product(u, v):\n",
    "    pass"
   ]
  },
  {
   "cell_type": "markdown",
   "metadata": {},
   "source": [
    "For example, dot_product([1, 3, 5], [2, 4, 6]) should return 44 (since 1 * 2 + 3 * 4 + 5 * 6\n",
    "= 44)."
   ]
  },
  {
   "cell_type": "markdown",
   "metadata": {},
   "source": [
    "###### Matrix Transposition"
   ]
  },
  {
   "cell_type": "markdown",
   "metadata": {},
   "source": [
    "Write a one-liner in Python to transpose a matrix. Assume that the input matrix is a tuple-oftuples that represents a valid matrix, not necessarily square. Again, do not use numpy or any\n",
    "other libraries - just raw data structure manipulation.\n"
   ]
  },
  {
   "cell_type": "code",
   "execution_count": null,
   "metadata": {},
   "outputs": [],
   "source": [
    "def transpose(m):\n",
    "    pass"
   ]
  },
  {
   "cell_type": "markdown",
   "metadata": {},
   "source": [
    "Not only can you do this in one line - you can do it in 14 characters!\n",
    "For example,"
   ]
  },
  {
   "cell_type": "code",
   "execution_count": null,
   "metadata": {},
   "outputs": [],
   "source": [
    "matrix = (\n",
    " (1, 2, 3, 4),\n",
    " (5, 6, 7, 8),\n",
    " (9,10,11,12)\n",
    ")\n",
    "transpose(matrix)\n",
    "# returns\n",
    "# (\n",
    "# (1, 5, 9),\n",
    "# (2, 6, 10),\n",
    "# (3, 7, 11),\n",
    "# (4, 8, 12)\n",
    "# )\n"
   ]
  },
  {
   "cell_type": "markdown",
   "metadata": {},
   "source": [
    "###### Matrix Multiplication"
   ]
  },
  {
   "cell_type": "markdown",
   "metadata": {},
   "source": [
    "Write another one-liner in Python to take the product of two matrices m1 and m2. You can use\n",
    "the dot_product and transpose functions you already wrote.\n"
   ]
  },
  {
   "cell_type": "code",
   "execution_count": null,
   "metadata": {},
   "outputs": [],
   "source": [
    "def matmul(m1, m2):\n",
    "    pass"
   ]
  },
  {
   "cell_type": "markdown",
   "metadata": {},
   "source": [
    "###### Lazy Generation"
   ]
  },
  {
   "cell_type": "markdown",
   "metadata": {},
   "source": [
    "Rewrite your transpose and matmul functions above so that they are lazily evaluated."
   ]
  },
  {
   "cell_type": "markdown",
   "metadata": {},
   "source": [
    "#### 2.8 Generator Expressions"
   ]
  },
  {
   "cell_type": "markdown",
   "metadata": {},
   "source": [
    "Recall that generator expressions are a way to lazily compute values on the fly, without\n",
    "buffering the entire contents of the list in place.\n",
    "For each of the following scenarios, discuss whether it would be more appropriate to use a\n",
    "generator expression or a list comprehension:\n",
    "- 1. Searching for a given entity in the entries of a 1TB database.\n",
    "- 2. Calculate cheap airfare using journey-to-destination flight information.\n",
    "- 3. Finding the first palindromic Fibonacci number greater than 1,000,000.\n",
    "- 4. Determine all multi-word anagrams of user-supplied 1000-character-or-more strings (very\n",
    "expensive to do).\n",
    "- 5. Generate a list of names of Stanford students whose SUNet ID numbers are less than 5000000.\n",
    "- 6. Return a list of all startups within 50 miles of Stanford.\n"
   ]
  },
  {
   "cell_type": "markdown",
   "metadata": {},
   "source": [
    "##### Generators\n",
    "Write a infinite generator that successively yields the triangle numbers 0, 1, 3, 6, 10, ..."
   ]
  },
  {
   "cell_type": "code",
   "execution_count": null,
   "metadata": {},
   "outputs": [],
   "source": [
    "def generate_triangles():\n",
    "    pass # Your implementation here"
   ]
  },
  {
   "cell_type": "markdown",
   "metadata": {},
   "source": [
    "Use your generator to write a function triangles_under(n) that prints out all triangle numbers\n",
    "strictly less than the parameter n."
   ]
  },
  {
   "cell_type": "code",
   "execution_count": null,
   "metadata": {},
   "outputs": [],
   "source": [
    "def triangles_under(n):\n",
    "    pass"
   ]
  },
  {
   "cell_type": "markdown",
   "metadata": {},
   "source": [
    "##### Functions in Data Structures"
   ]
  },
  {
   "cell_type": "markdown",
   "metadata": {},
   "source": [
    "In class, we quickly showed a highly unusual way to generate primes. Take some time to read\n",
    "through it again, and talk with a partner about how and why this successfully generates prime\n",
    "numbers."
   ]
  },
  {
   "cell_type": "code",
   "execution_count": null,
   "metadata": {},
   "outputs": [],
   "source": [
    "def primes_under(n):\n",
    "    tests = []\n",
    "    for i in range(2, n):\n",
    "        if not any(map(lambda test: test(i), tests)):\n",
    "            tests.append(make_divisibility_test(i))\n",
    "            yield i"
   ]
  },
  {
   "cell_type": "markdown",
   "metadata": {},
   "source": [
    "How would you modify the code above to yield all composite numbers, rather than all prime\n",
    "numbers? Test your solution. What is the 1000th composite number?"
   ]
  },
  {
   "cell_type": "markdown",
   "metadata": {},
   "source": [
    "##### Nested Functions and Closures\n",
    "In class, we saw that functions can be defined within the scope of another function (recall\n",
    "that functions introduce new scopes via a new local symbol table). An inner\n",
    "function is only in scope inside of the outer function, so this type of function definition is\n",
    "usually only used when the inner function is being returned to the outside world."
   ]
  },
  {
   "cell_type": "code",
   "execution_count": null,
   "metadata": {},
   "outputs": [],
   "source": [
    "def outer():\n",
    "    def inner(a):\n",
    "        return a\n",
    "    return inner\n",
    "\n",
    "f = outer()\n",
    "print(f) # <function outer.<locals>.inner at 0x1044b61e0>\n",
    "f(10) # => 10\n",
    "\n",
    "f2 = outer()\n",
    "print(f2) # <function outer.<locals>.inner at 0x1044b6268> (Different from above!)\n",
    "f2(11) # => 11\n"
   ]
  },
  {
   "cell_type": "markdown",
   "metadata": {},
   "source": [
    "Why are the memory addresses different for f and f2? Discuss with a partner."
   ]
  },
  {
   "cell_type": "markdown",
   "metadata": {},
   "source": [
    "##### Closure\n",
    "As we saw above, the definition of the inner function occurs during the execution of the outer\n",
    "function. This implies that a nested function has access to the environment in which it was\n",
    "defined. Therefore, it is possible to return an inner function that remembers the state of the\n",
    "outer function, even after the outer function has completed execution. This model is referred\n",
    "to as a closure."
   ]
  },
  {
   "cell_type": "code",
   "execution_count": null,
   "metadata": {},
   "outputs": [],
   "source": [
    "def make_adder(n):\n",
    "    def add_n(m): # Captures the outer variable `n` in a closure\n",
    "        return m + n\n",
    "    return add_n\n",
    "\n",
    "add1 = make_adder(1)\n",
    "print(add1) # <function make_adder.<locals>.add_n at 0x103edf8c8>\n",
    "add1(4) # => 4\n",
    "add1(5) # => 6\n",
    "add2 = make_adder(2)\n",
    "print(add2) # <function make_adder.<locals>.add_n at 0x103ecbf28>\n",
    "add2(4) # => 6\n",
    "add2(5) # => 7"
   ]
  },
  {
   "cell_type": "markdown",
   "metadata": {},
   "source": [
    "The information in a closure is available in the function's __closure__ attribute. For example:"
   ]
  },
  {
   "cell_type": "code",
   "execution_count": null,
   "metadata": {},
   "outputs": [],
   "source": [
    "closure = add1.__closure__\n",
    "cell0 = closure[0]\n",
    "cell0.cell_contents # => 1 (this is the n = 1 passed into make_adder)\n",
    "As another example, consider the function:\n",
    "def foo(a, b, c=-1, *d, e=-2, f=-3, **g):\n",
    "    def wraps():\n",
    "        print(a, c, e, g)"
   ]
  },
  {
   "cell_type": "markdown",
   "metadata": {},
   "source": [
    "The print call induces a closure of wraps over a, c, e, g from the enclosing scope of foo. Or, you\n",
    "can imagine that wraps \"knows\" that it will need a, c, e, and g from the enclosing scope, so at\n",
    "the time wraps is defined, Python takes a \"screenshot\" of these variables from the enclosing\n",
    "scope and stores references to the underlying objects in the __closure__ attribute of\n",
    "the wraps function."
   ]
  },
  {
   "cell_type": "code",
   "execution_count": null,
   "metadata": {},
   "outputs": [],
   "source": [
    "w = foo(1, 2, 3, 4, 5, e=6, f=7, y=2, z=3)\n",
    "list(map(lambda cell: cell.cell_contents, w.__closure__))\n",
    "# = > [1, 3, 6, {'y': 2, 'z': 3}]"
   ]
  },
  {
   "cell_type": "markdown",
   "metadata": {},
   "source": [
    "What happens in the following situation? Why?"
   ]
  },
  {
   "cell_type": "code",
   "execution_count": null,
   "metadata": {},
   "outputs": [],
   "source": [
    "def outer(l):\n",
    "    def inner(n):\n",
    "        return l * n\n",
    "    return inner\n",
    "\n",
    "l = [1, 2, 3]\n",
    "f = outer(l)\n",
    "print(f(3)) # => ??\n",
    "l.append(4)\n",
    "print(f(3)) # => ??"
   ]
  },
  {
   "cell_type": "markdown",
   "metadata": {},
   "source": [
    "#### 2.9 Building Decorators\n",
    "Recall that a decorator is a special type of function that accepts a function as an argument\n",
    "and (usually) returns a modified version of that function. In class, we saw the debug decorator -\n",
    "review the slides if you still feel uncomfortable with the idea of a decorator.\n",
    "Furthermore, recall that the @decorator syntax is syntactic sugar."
   ]
  },
  {
   "cell_type": "code",
   "execution_count": null,
   "metadata": {},
   "outputs": [],
   "source": [
    "@decorator\n",
    "def fn():\n",
    "    pass"
   ]
  },
  {
   "cell_type": "markdown",
   "metadata": {},
   "source": [
    "is equivalent to"
   ]
  },
  {
   "cell_type": "code",
   "execution_count": null,
   "metadata": {},
   "outputs": [],
   "source": [
    "def fn():\n",
    "    pass\n",
    "fn = decorator(fn)"
   ]
  },
  {
   "cell_type": "markdown",
   "metadata": {},
   "source": [
    "The debug decorator we wrote in class isn't very good. It doesn't tell us which function is being\n",
    "called, and it just gives us a tuple of positional arguments and a dictionary of keyword\n",
    "arguments - it doesn't even know what the names of the positional arguments are! If the\n",
    "default arguments aren't overridden, it won't show us their value either.\n",
    "Use function attributes to improve our debug decorator into a print_args decorator that is as\n",
    "good as you can make it."
   ]
  },
  {
   "cell_type": "code",
   "execution_count": null,
   "metadata": {},
   "outputs": [],
   "source": [
    "def print_args(function):\n",
    "    def wrapper(*args, **kwargs):\n",
    "        # (1) You could do something here\n",
    "        retval = function(*args, **kwargs)\n",
    "        # (2) You could also do something here\n",
    "        return retval\n",
    "    return wrapper"
   ]
  },
  {
   "cell_type": "markdown",
   "metadata": {},
   "source": [
    "##### Hint: \n",
    "Consider using the attributes fn.\\__name\\__ and foo.\\__code\\__. You'll have to investigate these\n",
    "attributes, but I will say that the last one is .\\__code\\__ code object which contains a number of\n",
    "useful attributes - for instance, fn.\\__code\\__.co_varnames. Check it out! More information is\n",
    "available in the latter half of Lab 3."
   ]
  },
  {
   "cell_type": "markdown",
   "metadata": {},
   "source": [
    "##### Note\n",
    "There are a lot of subtleties to this function, since functions can be called in a number of\n",
    "different ways. How does your print_args handle keyword arguments or even keyword-only\n",
    "arguments? Variadic positional arguments? Variadic keyword arguments? For more\n",
    "customization, look at fn.\\__defaults\\__, fn.\\__kwdefaults\\__ , as well as other attributes\n",
    "of fn.\\__code\\__ ."
   ]
  },
  {
   "cell_type": "markdown",
   "metadata": {},
   "source": [
    "#### Automatic Caching\n",
    "Write a decorator cache that will automatically cache any calls to the decorated function. You\n",
    "can assume that all arguments passed to the decorated function will always be hashable\n",
    "types."
   ]
  },
  {
   "cell_type": "code",
   "execution_count": null,
   "metadata": {},
   "outputs": [],
   "source": [
    "def cache(function):\n",
    "    pass # Your implementation here"
   ]
  },
  {
   "cell_type": "markdown",
   "metadata": {},
   "source": [
    "For example:"
   ]
  },
  {
   "cell_type": "code",
   "execution_count": null,
   "metadata": {},
   "outputs": [],
   "source": [
    "@cache\n",
    "def fib(n):\n",
    "    return fib(n-1) + fib(n-2) if n > 2 else 1\n",
    "\n",
    "fib(10) # 55 (takes a moment to execute)\n",
    "fib(10) # 55 (returns immediately)\n",
    "fib(100) # doesn't take forever\n",
    "fib(400) # doesn't raise RuntimeError"
   ]
  },
  {
   "cell_type": "markdown",
   "metadata": {},
   "source": [
    "##### Hint: \n",
    "    You can set arbitrary attributes on a function (e.g. fn._cache). When you do so, the\n",
    "attribute-value pair also gets inserted into fn.\\__dict\\__. Take a look for yourself. Are the extra\n",
    "attributes and .\\__dict\\__ always in sync?"
   ]
  },
  {
   "cell_type": "markdown",
   "metadata": {},
   "source": [
    "###### Challenge: Cache Options"
   ]
  },
  {
   "cell_type": "markdown",
   "metadata": {},
   "source": [
    "Add max_size and eviction_policy keyword arguments, with reasonable defaults\n",
    "(perhaps max_size=None as a sentinel), to your cache decorator. eviction_policy should\n",
    "be 'LRU', 'MRU', or 'random'."
   ]
  },
  {
   "cell_type": "markdown",
   "metadata": {},
   "source": [
    "##### Note\n",
    "This is actually implemented as part of the language in functools.lru_cache"
   ]
  },
  {
   "cell_type": "markdown",
   "metadata": {},
   "source": [
    "#### Static Type Checker\n",
    "Recall that functions in Python can be optionally annotated by semantically-useless but\n",
    "structurally-valuable type annotations. For example:"
   ]
  },
  {
   "cell_type": "code",
   "execution_count": null,
   "metadata": {},
   "outputs": [],
   "source": [
    "def foo(a: int, b: str) -> bool:\n",
    "    return b[a] == 'X'\n",
    "\n",
    "foo.__annotations__ # => {'a': int, 'b': str, 'return': bool}"
   ]
  },
  {
   "cell_type": "markdown",
   "metadata": {},
   "source": [
    "Write a static type checker, implemented as a decorator, that enforces the parameter types\n",
    "and return type of Python objects."
   ]
  },
  {
   "cell_type": "code",
   "execution_count": null,
   "metadata": {},
   "outputs": [],
   "source": [
    "def enforce_types(function):\n",
    "    pass # Your implementation here\n",
    "\n",
    "@enforce_types\n",
    "def foo(a: int, b: str) -> bool:\n",
    "    if a == -1:\n",
    "        return 'Gotcha!'\n",
    "    return b[a] == 'X'\n",
    "\n",
    "foo(3, 'abcXde') # => True\n",
    "foo(2, 'python') # => False\n",
    "foo(1, 4)        # prints \"Invalid argument type for b: expected str, received int\n",
    "foo(-1, '')      # prints \"Invalid return type: expected bool, received str\n"
   ]
  },
  {
   "cell_type": "markdown",
   "metadata": {},
   "source": [
    "There are lots of nuances to this function. What happens if some annotations are missing?\n",
    "How are keyword arguments and variadic arguments handled? What happens if the expected\n",
    "type of a parameter is not a primitive type? Can you annotate a function to describe that a\n",
    "parameter should be a list of strings? A tuple of (str, bool) pairs? A dictionary mapping strings\n",
    "to lists of ints?\n",
    "If you think you're done, show your decorator to us."
   ]
  },
  {
   "cell_type": "markdown",
   "metadata": {},
   "source": [
    "##### Bonus: Optional Debug Argument\n",
    "##### Warning! This extension is very hard"
   ]
  },
  {
   "cell_type": "markdown",
   "metadata": {},
   "source": [
    "Extend the enforce_types decorator to accept a keyword argument severity which modifies\n",
    "the extent of the enforcement. If severity == 0, disable type checking. If severity == 1 (which\n",
    "is the default), just print a message if there are any type violations. If severity == 2, raise an\n",
    "Exception if there are any type violations.\n",
    "For example:\n"
   ]
  },
  {
   "cell_type": "code",
   "execution_count": null,
   "metadata": {},
   "outputs": [],
   "source": [
    "@enforce_types(severity=2)\n",
    "def bar(a: list, b: str) -> int:\n",
    "    return 0\n",
    "\n",
    "@enforce_types() # Note that there are parentheses\n",
    "def baz(a: bool, b: str) -> str:\n",
    "    return ''"
   ]
  }
 ],
 "metadata": {
  "kernelspec": {
   "display_name": "Python 3",
   "language": "python",
   "name": "python3"
  },
  "language_info": {
   "codemirror_mode": {
    "name": "ipython",
    "version": 3
   },
   "file_extension": ".py",
   "mimetype": "text/x-python",
   "name": "python",
   "nbconvert_exporter": "python",
   "pygments_lexer": "ipython3",
   "version": "3.6.8"
  }
 },
 "nbformat": 4,
 "nbformat_minor": 2
}
